{
  "nbformat": 4,
  "nbformat_minor": 0,
  "metadata": {
    "colab": {
      "name": "Intertrack_Restaurant_Weekly_Sales_Prediction.ipynb",
      "provenance": [],
      "collapsed_sections": [],
      "toc_visible": true,
      "mount_file_id": "1iT6D7FuD7RFsZHOUvlX3f4knlFlt9b1S",
      "authorship_tag": "ABX9TyNFTNYgEFKjp4tQul7WWOzT",
      "include_colab_link": true
    },
    "kernelspec": {
      "display_name": "Python 3",
      "name": "python3"
    }
  },
  "cells": [
    {
      "cell_type": "markdown",
      "metadata": {
        "id": "view-in-github",
        "colab_type": "text"
      },
      "source": [
        "<a href=\"https://colab.research.google.com/github/Adesanza/dataline/blob/main/Data%20Science/Intertrack_Restaurant_Weekly_Sales_Prediction.ipynb\" target=\"_parent\"><img src=\"https://colab.research.google.com/assets/colab-badge.svg\" alt=\"Open In Colab\"/></a>"
      ]
    },
    {
      "cell_type": "markdown",
      "metadata": {
        "id": "-mhWeWAYP4u_"
      },
      "source": [
        "# Restaurant Weekly Sales Prediction"
      ]
    },
    {
      "cell_type": "markdown",
      "metadata": {
        "id": "gXRSHwSNQJA2"
      },
      "source": [
        "## Abstract"
      ]
    },
    {
      "cell_type": "markdown",
      "metadata": {
        "id": "MP2PnTstQKlr"
      },
      "source": [
        ""
      ]
    },
    {
      "cell_type": "markdown",
      "metadata": {
        "id": "TmFkrELcQBdO"
      },
      "source": [
        "## Introduction"
      ]
    },
    {
      "cell_type": "markdown",
      "metadata": {
        "id": "yrFzOiVKRhJU"
      },
      "source": [
        ""
      ]
    },
    {
      "cell_type": "markdown",
      "metadata": {
        "id": "GwXsEpNwQMeB"
      },
      "source": [
        "## Data Engineering"
      ]
    },
    {
      "cell_type": "markdown",
      "metadata": {
        "id": "ThY8IFV-RiRO"
      },
      "source": [
        "**Importing Necessary Libraries**"
      ]
    },
    {
      "cell_type": "code",
      "metadata": {
        "id": "L_jnW7HNPIbP"
      },
      "source": [
        "import numpy as np \n",
        "import pandas as pd \n",
        "import matplotlib.pyplot as plt \n",
        "import seaborn as sns \n",
        "sns.set(style='darkgrid')\n",
        "import pickle"
      ],
      "execution_count": null,
      "outputs": []
    },
    {
      "cell_type": "markdown",
      "metadata": {
        "id": "Md8sj7CjP33v"
      },
      "source": [
        "## Load Data"
      ]
    },
    {
      "cell_type": "code",
      "metadata": {
        "colab": {
          "base_uri": "https://localhost:8080/",
          "height": 513
        },
        "id": "Eu3lrhZ9SG-G",
        "outputId": "e301d4cc-f7bd-47fb-f44b-6355edc616a7"
      },
      "source": [
        "data = pd.read_csv('train_data_cleaned.csv')\n",
        "#Data preview\n",
        "data.head(5)"
      ],
      "execution_count": null,
      "outputs": [
        {
          "output_type": "execute_result",
          "data": {
            "text/html": [
              "<div>\n",
              "<style scoped>\n",
              "    .dataframe tbody tr th:only-of-type {\n",
              "        vertical-align: middle;\n",
              "    }\n",
              "\n",
              "    .dataframe tbody tr th {\n",
              "        vertical-align: top;\n",
              "    }\n",
              "\n",
              "    .dataframe thead th {\n",
              "        text-align: right;\n",
              "    }\n",
              "</style>\n",
              "<table border=\"1\" class=\"dataframe\">\n",
              "  <thead>\n",
              "    <tr style=\"text-align: right;\">\n",
              "      <th></th>\n",
              "      <th>year_week</th>\n",
              "      <th>recipe_id</th>\n",
              "      <th>recipe_name</th>\n",
              "      <th>product_type</th>\n",
              "      <th>calories</th>\n",
              "      <th>carbs</th>\n",
              "      <th>cooking_time</th>\n",
              "      <th>cuisine</th>\n",
              "      <th>description</th>\n",
              "      <th>difficulty</th>\n",
              "      <th>dish_type</th>\n",
              "      <th>heat_level</th>\n",
              "      <th>fat</th>\n",
              "      <th>is_classic</th>\n",
              "      <th>number_of_ingredients_per_recipe</th>\n",
              "      <th>preferences</th>\n",
              "      <th>carbs_content</th>\n",
              "      <th>dish_types</th>\n",
              "      <th>seasons</th>\n",
              "      <th>protein_types</th>\n",
              "      <th>proteins</th>\n",
              "      <th>course_type</th>\n",
              "      <th>cooking_tip</th>\n",
              "      <th>meta_tags</th>\n",
              "      <th>percentage_of_local_ingredients</th>\n",
              "      <th>protein_cuts</th>\n",
              "      <th>sales</th>\n",
              "    </tr>\n",
              "  </thead>\n",
              "  <tbody>\n",
              "    <tr>\n",
              "      <th>0</th>\n",
              "      <td>201801</td>\n",
              "      <td>14919</td>\n",
              "      <td>Shrimp &amp; Broccoli Stir-Fry</td>\n",
              "      <td>2 person</td>\n",
              "      <td>687.0</td>\n",
              "      <td>99.2</td>\n",
              "      <td>time_level_4</td>\n",
              "      <td>asian</td>\n",
              "      <td>For this dish, once the ingredients are preppe...</td>\n",
              "      <td>easy</td>\n",
              "      <td>fish</td>\n",
              "      <td>optional_heat</td>\n",
              "      <td>18.6</td>\n",
              "      <td>No</td>\n",
              "      <td>7</td>\n",
              "      <td>shellfish</td>\n",
              "      <td>rice</td>\n",
              "      <td>fish_and_side,stir_fry</td>\n",
              "      <td>all_seasons</td>\n",
              "      <td>shellfish</td>\n",
              "      <td>29.5</td>\n",
              "      <td>main</td>\n",
              "      <td>NaN</td>\n",
              "      <td>healthy_choice</td>\n",
              "      <td>0.0</td>\n",
              "      <td>NaN</td>\n",
              "      <td>3567</td>\n",
              "    </tr>\n",
              "    <tr>\n",
              "      <th>1</th>\n",
              "      <td>201801</td>\n",
              "      <td>14920</td>\n",
              "      <td>Caramelized Cabbage Pasta</td>\n",
              "      <td>2 person</td>\n",
              "      <td>779.0</td>\n",
              "      <td>81.3</td>\n",
              "      <td>time_level_4</td>\n",
              "      <td>new_american</td>\n",
              "      <td>Red lentil penne makes this pasta dish a pleas...</td>\n",
              "      <td>easy</td>\n",
              "      <td>veggie</td>\n",
              "      <td>no_heat</td>\n",
              "      <td>38.5</td>\n",
              "      <td>No</td>\n",
              "      <td>5</td>\n",
              "      <td>no_protein</td>\n",
              "      <td>pasta_incl_gnocchi_spatzle</td>\n",
              "      <td>pasta</td>\n",
              "      <td>all_seasons</td>\n",
              "      <td>no_protein</td>\n",
              "      <td>30.0</td>\n",
              "      <td>main</td>\n",
              "      <td>NaN</td>\n",
              "      <td>quick</td>\n",
              "      <td>0.0</td>\n",
              "      <td>no_cut</td>\n",
              "      <td>2532</td>\n",
              "    </tr>\n",
              "    <tr>\n",
              "      <th>2</th>\n",
              "      <td>201801</td>\n",
              "      <td>14449</td>\n",
              "      <td>AFC Vegetarian Pad Thai</td>\n",
              "      <td>z_amazon</td>\n",
              "      <td>642.0</td>\n",
              "      <td>92.8</td>\n",
              "      <td>NaN</td>\n",
              "      <td>NaN</td>\n",
              "      <td>Pad Thai is one of our favorite street foods t...</td>\n",
              "      <td>easy</td>\n",
              "      <td>veggie</td>\n",
              "      <td>NaN</td>\n",
              "      <td>25.6</td>\n",
              "      <td>No</td>\n",
              "      <td>10</td>\n",
              "      <td>NaN</td>\n",
              "      <td>NaN</td>\n",
              "      <td>NaN</td>\n",
              "      <td>NaN</td>\n",
              "      <td>NaN</td>\n",
              "      <td>16.2</td>\n",
              "      <td>NaN</td>\n",
              "      <td>NaN</td>\n",
              "      <td>NaN</td>\n",
              "      <td>NaN</td>\n",
              "      <td>NaN</td>\n",
              "      <td>6</td>\n",
              "    </tr>\n",
              "    <tr>\n",
              "      <th>3</th>\n",
              "      <td>201801</td>\n",
              "      <td>11963</td>\n",
              "      <td>Shrimp &amp; Broccoli Stir-Fry</td>\n",
              "      <td>family</td>\n",
              "      <td>620.0</td>\n",
              "      <td>93.2</td>\n",
              "      <td>time_level_4</td>\n",
              "      <td>asian</td>\n",
              "      <td>For this dish, once the ingredients are preppe...</td>\n",
              "      <td>easy</td>\n",
              "      <td>fish</td>\n",
              "      <td>optional_heat</td>\n",
              "      <td>13.7</td>\n",
              "      <td>No</td>\n",
              "      <td>7</td>\n",
              "      <td>shellfish</td>\n",
              "      <td>rice</td>\n",
              "      <td>fish_and_side,stir_fry</td>\n",
              "      <td>all_seasons</td>\n",
              "      <td>shellfish</td>\n",
              "      <td>28.7</td>\n",
              "      <td>main</td>\n",
              "      <td>NaN</td>\n",
              "      <td>healthy_choice</td>\n",
              "      <td>0.0</td>\n",
              "      <td>NaN</td>\n",
              "      <td>642</td>\n",
              "    </tr>\n",
              "    <tr>\n",
              "      <th>4</th>\n",
              "      <td>201801</td>\n",
              "      <td>14914</td>\n",
              "      <td>Chicken &amp; Pasta Soup</td>\n",
              "      <td>family</td>\n",
              "      <td>610.0</td>\n",
              "      <td>67.0</td>\n",
              "      <td>time_level_4</td>\n",
              "      <td>new_american</td>\n",
              "      <td>We've never met a chicken soup we didn't like,...</td>\n",
              "      <td>easy</td>\n",
              "      <td>meat</td>\n",
              "      <td>no_heat</td>\n",
              "      <td>20.0</td>\n",
              "      <td>No</td>\n",
              "      <td>7</td>\n",
              "      <td>poultry</td>\n",
              "      <td>sweet_potato,pasta_incl_gnocchi_spatzle</td>\n",
              "      <td>soup</td>\n",
              "      <td>all_seasons</td>\n",
              "      <td>poultry</td>\n",
              "      <td>36.0</td>\n",
              "      <td>main</td>\n",
              "      <td>NaN</td>\n",
              "      <td>healthy_choice</td>\n",
              "      <td>0.0</td>\n",
              "      <td>breast</td>\n",
              "      <td>1492</td>\n",
              "    </tr>\n",
              "  </tbody>\n",
              "</table>\n",
              "</div>"
            ],
            "text/plain": [
              "   year_week  recipe_id  ... protein_cuts sales\n",
              "0     201801      14919  ...          NaN  3567\n",
              "1     201801      14920  ...       no_cut  2532\n",
              "2     201801      14449  ...          NaN     6\n",
              "3     201801      11963  ...          NaN   642\n",
              "4     201801      14914  ...       breast  1492\n",
              "\n",
              "[5 rows x 27 columns]"
            ]
          },
          "metadata": {
            "tags": []
          },
          "execution_count": 3
        }
      ]
    },
    {
      "cell_type": "code",
      "metadata": {
        "id": "heD8WPBTr6AH"
      },
      "source": [
        "table = pd.DataFrame({\"Column\" : list(data.isnull().sum().index),\n",
        "                      \"Null Values\" : data.isnull().sum().values,\n",
        "                      \"Unique Values\": [len(data[x].unique()) for x in data.columns],\n",
        "                      \"Dtype\" : data.dtypes.values\n",
        "                      })"
      ],
      "execution_count": null,
      "outputs": []
    },
    {
      "cell_type": "code",
      "metadata": {
        "colab": {
          "base_uri": "https://localhost:8080/",
          "height": 886
        },
        "id": "POELy2A-tO3A",
        "outputId": "2b32baa0-6855-4c96-9e51-ca5465d9912c"
      },
      "source": [
        "#Getting insight on missing values, data type and unique values\r\n",
        "table"
      ],
      "execution_count": null,
      "outputs": [
        {
          "output_type": "execute_result",
          "data": {
            "text/html": [
              "<div>\n",
              "<style scoped>\n",
              "    .dataframe tbody tr th:only-of-type {\n",
              "        vertical-align: middle;\n",
              "    }\n",
              "\n",
              "    .dataframe tbody tr th {\n",
              "        vertical-align: top;\n",
              "    }\n",
              "\n",
              "    .dataframe thead th {\n",
              "        text-align: right;\n",
              "    }\n",
              "</style>\n",
              "<table border=\"1\" class=\"dataframe\">\n",
              "  <thead>\n",
              "    <tr style=\"text-align: right;\">\n",
              "      <th></th>\n",
              "      <th>Column</th>\n",
              "      <th>Null Values</th>\n",
              "      <th>Unique Values</th>\n",
              "      <th>Dtype</th>\n",
              "    </tr>\n",
              "  </thead>\n",
              "  <tbody>\n",
              "    <tr>\n",
              "      <th>0</th>\n",
              "      <td>year_week</td>\n",
              "      <td>0</td>\n",
              "      <td>96</td>\n",
              "      <td>int64</td>\n",
              "    </tr>\n",
              "    <tr>\n",
              "      <th>1</th>\n",
              "      <td>recipe_id</td>\n",
              "      <td>0</td>\n",
              "      <td>1931</td>\n",
              "      <td>int64</td>\n",
              "    </tr>\n",
              "    <tr>\n",
              "      <th>2</th>\n",
              "      <td>recipe_name</td>\n",
              "      <td>0</td>\n",
              "      <td>931</td>\n",
              "      <td>object</td>\n",
              "    </tr>\n",
              "    <tr>\n",
              "      <th>3</th>\n",
              "      <td>product_type</td>\n",
              "      <td>0</td>\n",
              "      <td>4</td>\n",
              "      <td>object</td>\n",
              "    </tr>\n",
              "    <tr>\n",
              "      <th>4</th>\n",
              "      <td>calories</td>\n",
              "      <td>6</td>\n",
              "      <td>393</td>\n",
              "      <td>float64</td>\n",
              "    </tr>\n",
              "    <tr>\n",
              "      <th>5</th>\n",
              "      <td>carbs</td>\n",
              "      <td>47</td>\n",
              "      <td>406</td>\n",
              "      <td>float64</td>\n",
              "    </tr>\n",
              "    <tr>\n",
              "      <th>6</th>\n",
              "      <td>cooking_time</td>\n",
              "      <td>291</td>\n",
              "      <td>6</td>\n",
              "      <td>object</td>\n",
              "    </tr>\n",
              "    <tr>\n",
              "      <th>7</th>\n",
              "      <td>cuisine</td>\n",
              "      <td>833</td>\n",
              "      <td>28</td>\n",
              "      <td>object</td>\n",
              "    </tr>\n",
              "    <tr>\n",
              "      <th>8</th>\n",
              "      <td>description</td>\n",
              "      <td>4</td>\n",
              "      <td>981</td>\n",
              "      <td>object</td>\n",
              "    </tr>\n",
              "    <tr>\n",
              "      <th>9</th>\n",
              "      <td>difficulty</td>\n",
              "      <td>9</td>\n",
              "      <td>2</td>\n",
              "      <td>object</td>\n",
              "    </tr>\n",
              "    <tr>\n",
              "      <th>10</th>\n",
              "      <td>dish_type</td>\n",
              "      <td>418</td>\n",
              "      <td>5</td>\n",
              "      <td>object</td>\n",
              "    </tr>\n",
              "    <tr>\n",
              "      <th>11</th>\n",
              "      <td>heat_level</td>\n",
              "      <td>716</td>\n",
              "      <td>5</td>\n",
              "      <td>object</td>\n",
              "    </tr>\n",
              "    <tr>\n",
              "      <th>12</th>\n",
              "      <td>fat</td>\n",
              "      <td>47</td>\n",
              "      <td>314</td>\n",
              "      <td>float64</td>\n",
              "    </tr>\n",
              "    <tr>\n",
              "      <th>13</th>\n",
              "      <td>is_classic</td>\n",
              "      <td>0</td>\n",
              "      <td>1</td>\n",
              "      <td>object</td>\n",
              "    </tr>\n",
              "    <tr>\n",
              "      <th>14</th>\n",
              "      <td>number_of_ingredients_per_recipe</td>\n",
              "      <td>0</td>\n",
              "      <td>12</td>\n",
              "      <td>int64</td>\n",
              "    </tr>\n",
              "    <tr>\n",
              "      <th>15</th>\n",
              "      <td>preferences</td>\n",
              "      <td>513</td>\n",
              "      <td>45</td>\n",
              "      <td>object</td>\n",
              "    </tr>\n",
              "    <tr>\n",
              "      <th>16</th>\n",
              "      <td>carbs_content</td>\n",
              "      <td>701</td>\n",
              "      <td>44</td>\n",
              "      <td>object</td>\n",
              "    </tr>\n",
              "    <tr>\n",
              "      <th>17</th>\n",
              "      <td>dish_types</td>\n",
              "      <td>704</td>\n",
              "      <td>109</td>\n",
              "      <td>object</td>\n",
              "    </tr>\n",
              "    <tr>\n",
              "      <th>18</th>\n",
              "      <td>seasons</td>\n",
              "      <td>925</td>\n",
              "      <td>11</td>\n",
              "      <td>object</td>\n",
              "    </tr>\n",
              "    <tr>\n",
              "      <th>19</th>\n",
              "      <td>protein_types</td>\n",
              "      <td>701</td>\n",
              "      <td>35</td>\n",
              "      <td>object</td>\n",
              "    </tr>\n",
              "    <tr>\n",
              "      <th>20</th>\n",
              "      <td>proteins</td>\n",
              "      <td>47</td>\n",
              "      <td>305</td>\n",
              "      <td>float64</td>\n",
              "    </tr>\n",
              "    <tr>\n",
              "      <th>21</th>\n",
              "      <td>course_type</td>\n",
              "      <td>703</td>\n",
              "      <td>2</td>\n",
              "      <td>object</td>\n",
              "    </tr>\n",
              "    <tr>\n",
              "      <th>22</th>\n",
              "      <td>cooking_tip</td>\n",
              "      <td>2939</td>\n",
              "      <td>1</td>\n",
              "      <td>float64</td>\n",
              "    </tr>\n",
              "    <tr>\n",
              "      <th>23</th>\n",
              "      <td>meta_tags</td>\n",
              "      <td>870</td>\n",
              "      <td>15</td>\n",
              "      <td>object</td>\n",
              "    </tr>\n",
              "    <tr>\n",
              "      <th>24</th>\n",
              "      <td>percentage_of_local_ingredients</td>\n",
              "      <td>283</td>\n",
              "      <td>2</td>\n",
              "      <td>float64</td>\n",
              "    </tr>\n",
              "    <tr>\n",
              "      <th>25</th>\n",
              "      <td>protein_cuts</td>\n",
              "      <td>991</td>\n",
              "      <td>17</td>\n",
              "      <td>object</td>\n",
              "    </tr>\n",
              "    <tr>\n",
              "      <th>26</th>\n",
              "      <td>sales</td>\n",
              "      <td>0</td>\n",
              "      <td>1855</td>\n",
              "      <td>int64</td>\n",
              "    </tr>\n",
              "  </tbody>\n",
              "</table>\n",
              "</div>"
            ],
            "text/plain": [
              "                              Column  Null Values  Unique Values    Dtype\n",
              "0                          year_week            0             96    int64\n",
              "1                          recipe_id            0           1931    int64\n",
              "2                        recipe_name            0            931   object\n",
              "3                       product_type            0              4   object\n",
              "4                           calories            6            393  float64\n",
              "5                              carbs           47            406  float64\n",
              "6                       cooking_time          291              6   object\n",
              "7                            cuisine          833             28   object\n",
              "8                        description            4            981   object\n",
              "9                         difficulty            9              2   object\n",
              "10                         dish_type          418              5   object\n",
              "11                        heat_level          716              5   object\n",
              "12                               fat           47            314  float64\n",
              "13                        is_classic            0              1   object\n",
              "14  number_of_ingredients_per_recipe            0             12    int64\n",
              "15                       preferences          513             45   object\n",
              "16                     carbs_content          701             44   object\n",
              "17                        dish_types          704            109   object\n",
              "18                           seasons          925             11   object\n",
              "19                     protein_types          701             35   object\n",
              "20                          proteins           47            305  float64\n",
              "21                       course_type          703              2   object\n",
              "22                       cooking_tip         2939              1  float64\n",
              "23                         meta_tags          870             15   object\n",
              "24   percentage_of_local_ingredients          283              2  float64\n",
              "25                      protein_cuts          991             17   object\n",
              "26                             sales            0           1855    int64"
            ]
          },
          "metadata": {
            "tags": []
          },
          "execution_count": 5
        }
      ]
    },
    {
      "cell_type": "code",
      "metadata": {
        "id": "Qz_opgoeBR5R"
      },
      "source": [
        "#Removing columns with numerous unique values and no valid contribution to the target variable.\n",
        "strpCol = ['year_week', 'recipe_id','recipe_name','cooking_tip', 'description', 'is_classic', 'course_type', 'difficulty', 'dish_types', 'seasons', 'carbs_content', 'percentage_of_local_ingredients', 'protein_cuts', 'meta_tags', 'course_type']\n",
        "FullTable = data[[x for x in data.columns if x not in strpCol]]"
      ],
      "execution_count": null,
      "outputs": []
    },
    {
      "cell_type": "code",
      "metadata": {
        "colab": {
          "base_uri": "https://localhost:8080/",
          "height": 439
        },
        "id": "Y27-5Eim1d4t",
        "outputId": "7e07179e-55c7-4955-f7af-44e6d13478af"
      },
      "source": [
        "FullTable"
      ],
      "execution_count": null,
      "outputs": [
        {
          "output_type": "execute_result",
          "data": {
            "text/html": [
              "<div>\n",
              "<style scoped>\n",
              "    .dataframe tbody tr th:only-of-type {\n",
              "        vertical-align: middle;\n",
              "    }\n",
              "\n",
              "    .dataframe tbody tr th {\n",
              "        vertical-align: top;\n",
              "    }\n",
              "\n",
              "    .dataframe thead th {\n",
              "        text-align: right;\n",
              "    }\n",
              "</style>\n",
              "<table border=\"1\" class=\"dataframe\">\n",
              "  <thead>\n",
              "    <tr style=\"text-align: right;\">\n",
              "      <th></th>\n",
              "      <th>product_type</th>\n",
              "      <th>calories</th>\n",
              "      <th>carbs</th>\n",
              "      <th>cooking_time</th>\n",
              "      <th>cuisine</th>\n",
              "      <th>dish_type</th>\n",
              "      <th>heat_level</th>\n",
              "      <th>fat</th>\n",
              "      <th>number_of_ingredients_per_recipe</th>\n",
              "      <th>preferences</th>\n",
              "      <th>protein_types</th>\n",
              "      <th>proteins</th>\n",
              "      <th>sales</th>\n",
              "    </tr>\n",
              "  </thead>\n",
              "  <tbody>\n",
              "    <tr>\n",
              "      <th>0</th>\n",
              "      <td>2 person</td>\n",
              "      <td>687.0</td>\n",
              "      <td>99.2</td>\n",
              "      <td>time_level_4</td>\n",
              "      <td>asian</td>\n",
              "      <td>fish</td>\n",
              "      <td>optional_heat</td>\n",
              "      <td>18.6</td>\n",
              "      <td>7</td>\n",
              "      <td>shellfish</td>\n",
              "      <td>shellfish</td>\n",
              "      <td>29.5</td>\n",
              "      <td>3567</td>\n",
              "    </tr>\n",
              "    <tr>\n",
              "      <th>1</th>\n",
              "      <td>2 person</td>\n",
              "      <td>779.0</td>\n",
              "      <td>81.3</td>\n",
              "      <td>time_level_4</td>\n",
              "      <td>new_american</td>\n",
              "      <td>veggie</td>\n",
              "      <td>no_heat</td>\n",
              "      <td>38.5</td>\n",
              "      <td>5</td>\n",
              "      <td>no_protein</td>\n",
              "      <td>no_protein</td>\n",
              "      <td>30.0</td>\n",
              "      <td>2532</td>\n",
              "    </tr>\n",
              "    <tr>\n",
              "      <th>2</th>\n",
              "      <td>z_amazon</td>\n",
              "      <td>642.0</td>\n",
              "      <td>92.8</td>\n",
              "      <td>NaN</td>\n",
              "      <td>NaN</td>\n",
              "      <td>veggie</td>\n",
              "      <td>NaN</td>\n",
              "      <td>25.6</td>\n",
              "      <td>10</td>\n",
              "      <td>NaN</td>\n",
              "      <td>NaN</td>\n",
              "      <td>16.2</td>\n",
              "      <td>6</td>\n",
              "    </tr>\n",
              "    <tr>\n",
              "      <th>3</th>\n",
              "      <td>family</td>\n",
              "      <td>620.0</td>\n",
              "      <td>93.2</td>\n",
              "      <td>time_level_4</td>\n",
              "      <td>asian</td>\n",
              "      <td>fish</td>\n",
              "      <td>optional_heat</td>\n",
              "      <td>13.7</td>\n",
              "      <td>7</td>\n",
              "      <td>shellfish</td>\n",
              "      <td>shellfish</td>\n",
              "      <td>28.7</td>\n",
              "      <td>642</td>\n",
              "    </tr>\n",
              "    <tr>\n",
              "      <th>4</th>\n",
              "      <td>family</td>\n",
              "      <td>610.0</td>\n",
              "      <td>67.0</td>\n",
              "      <td>time_level_4</td>\n",
              "      <td>new_american</td>\n",
              "      <td>meat</td>\n",
              "      <td>no_heat</td>\n",
              "      <td>20.0</td>\n",
              "      <td>7</td>\n",
              "      <td>poultry</td>\n",
              "      <td>poultry</td>\n",
              "      <td>36.0</td>\n",
              "      <td>1492</td>\n",
              "    </tr>\n",
              "    <tr>\n",
              "      <th>...</th>\n",
              "      <td>...</td>\n",
              "      <td>...</td>\n",
              "      <td>...</td>\n",
              "      <td>...</td>\n",
              "      <td>...</td>\n",
              "      <td>...</td>\n",
              "      <td>...</td>\n",
              "      <td>...</td>\n",
              "      <td>...</td>\n",
              "      <td>...</td>\n",
              "      <td>...</td>\n",
              "      <td>...</td>\n",
              "      <td>...</td>\n",
              "    </tr>\n",
              "    <tr>\n",
              "      <th>2934</th>\n",
              "      <td>2 person</td>\n",
              "      <td>860.0</td>\n",
              "      <td>50.0</td>\n",
              "      <td>time_level_5</td>\n",
              "      <td>italian</td>\n",
              "      <td>veggie</td>\n",
              "      <td>no_heat</td>\n",
              "      <td>62.0</td>\n",
              "      <td>6</td>\n",
              "      <td>dairy</td>\n",
              "      <td>dairy</td>\n",
              "      <td>30.0</td>\n",
              "      <td>2015</td>\n",
              "    </tr>\n",
              "    <tr>\n",
              "      <th>2935</th>\n",
              "      <td>family</td>\n",
              "      <td>760.0</td>\n",
              "      <td>46.0</td>\n",
              "      <td>time_level_5</td>\n",
              "      <td>italian</td>\n",
              "      <td>veggie</td>\n",
              "      <td>no_heat</td>\n",
              "      <td>54.0</td>\n",
              "      <td>6</td>\n",
              "      <td>dairy</td>\n",
              "      <td>dairy</td>\n",
              "      <td>25.0</td>\n",
              "      <td>374</td>\n",
              "    </tr>\n",
              "    <tr>\n",
              "      <th>2936</th>\n",
              "      <td>2 person</td>\n",
              "      <td>960.0</td>\n",
              "      <td>104.0</td>\n",
              "      <td>time_level_4</td>\n",
              "      <td>thai</td>\n",
              "      <td>meat</td>\n",
              "      <td>no_heat</td>\n",
              "      <td>37.0</td>\n",
              "      <td>9</td>\n",
              "      <td>fish,poultry</td>\n",
              "      <td>fish,poultry</td>\n",
              "      <td>56.0</td>\n",
              "      <td>1472</td>\n",
              "    </tr>\n",
              "    <tr>\n",
              "      <th>2937</th>\n",
              "      <td>2 person</td>\n",
              "      <td>760.0</td>\n",
              "      <td>51.0</td>\n",
              "      <td>time_level_5</td>\n",
              "      <td>new_american</td>\n",
              "      <td>meat</td>\n",
              "      <td>no_heat</td>\n",
              "      <td>42.0</td>\n",
              "      <td>8</td>\n",
              "      <td>pork,poultry</td>\n",
              "      <td>pork,poultry</td>\n",
              "      <td>43.0</td>\n",
              "      <td>1134</td>\n",
              "    </tr>\n",
              "    <tr>\n",
              "      <th>2938</th>\n",
              "      <td>family</td>\n",
              "      <td>920.0</td>\n",
              "      <td>52.0</td>\n",
              "      <td>time_level_5</td>\n",
              "      <td>new_american</td>\n",
              "      <td>meat</td>\n",
              "      <td>no_heat</td>\n",
              "      <td>47.0</td>\n",
              "      <td>6</td>\n",
              "      <td>poultry</td>\n",
              "      <td>poultry</td>\n",
              "      <td>73.0</td>\n",
              "      <td>190</td>\n",
              "    </tr>\n",
              "  </tbody>\n",
              "</table>\n",
              "<p>2939 rows × 13 columns</p>\n",
              "</div>"
            ],
            "text/plain": [
              "     product_type  calories  carbs  ... protein_types proteins sales\n",
              "0        2 person     687.0   99.2  ...     shellfish     29.5  3567\n",
              "1        2 person     779.0   81.3  ...    no_protein     30.0  2532\n",
              "2        z_amazon     642.0   92.8  ...           NaN     16.2     6\n",
              "3          family     620.0   93.2  ...     shellfish     28.7   642\n",
              "4          family     610.0   67.0  ...       poultry     36.0  1492\n",
              "...           ...       ...    ...  ...           ...      ...   ...\n",
              "2934     2 person     860.0   50.0  ...         dairy     30.0  2015\n",
              "2935       family     760.0   46.0  ...         dairy     25.0   374\n",
              "2936     2 person     960.0  104.0  ...  fish,poultry     56.0  1472\n",
              "2937     2 person     760.0   51.0  ...  pork,poultry     43.0  1134\n",
              "2938       family     920.0   52.0  ...       poultry     73.0   190\n",
              "\n",
              "[2939 rows x 13 columns]"
            ]
          },
          "metadata": {
            "tags": []
          },
          "execution_count": 7
        }
      ]
    },
    {
      "cell_type": "code",
      "metadata": {
        "colab": {
          "base_uri": "https://localhost:8080/"
        },
        "id": "qaPzYsrV19fG",
        "outputId": "80ca413e-94f8-4a30-a6af-b9a4ee6f956d"
      },
      "source": [
        "#Stripping out prefences. Has same data value as protein types.\r\n",
        "FullTable.drop('preferences', 1, inplace=True )"
      ],
      "execution_count": null,
      "outputs": [
        {
          "output_type": "stream",
          "text": [
            "/usr/local/lib/python3.6/dist-packages/pandas/core/frame.py:4174: SettingWithCopyWarning: \n",
            "A value is trying to be set on a copy of a slice from a DataFrame\n",
            "\n",
            "See the caveats in the documentation: https://pandas.pydata.org/pandas-docs/stable/user_guide/indexing.html#returning-a-view-versus-a-copy\n",
            "  errors=errors,\n"
          ],
          "name": "stderr"
        }
      ]
    },
    {
      "cell_type": "code",
      "metadata": {
        "colab": {
          "base_uri": "https://localhost:8080/",
          "height": 410
        },
        "id": "ZKFIRAUy60od",
        "outputId": "81d8b10a-cd2f-4d82-b187-02759e687563"
      },
      "source": [
        "FullTable.describe(include='all')"
      ],
      "execution_count": null,
      "outputs": [
        {
          "output_type": "execute_result",
          "data": {
            "text/html": [
              "<div>\n",
              "<style scoped>\n",
              "    .dataframe tbody tr th:only-of-type {\n",
              "        vertical-align: middle;\n",
              "    }\n",
              "\n",
              "    .dataframe tbody tr th {\n",
              "        vertical-align: top;\n",
              "    }\n",
              "\n",
              "    .dataframe thead th {\n",
              "        text-align: right;\n",
              "    }\n",
              "</style>\n",
              "<table border=\"1\" class=\"dataframe\">\n",
              "  <thead>\n",
              "    <tr style=\"text-align: right;\">\n",
              "      <th></th>\n",
              "      <th>product_type</th>\n",
              "      <th>calories</th>\n",
              "      <th>carbs</th>\n",
              "      <th>cooking_time</th>\n",
              "      <th>cuisine</th>\n",
              "      <th>dish_type</th>\n",
              "      <th>heat_level</th>\n",
              "      <th>fat</th>\n",
              "      <th>number_of_ingredients_per_recipe</th>\n",
              "      <th>protein_types</th>\n",
              "      <th>proteins</th>\n",
              "      <th>sales</th>\n",
              "    </tr>\n",
              "  </thead>\n",
              "  <tbody>\n",
              "    <tr>\n",
              "      <th>count</th>\n",
              "      <td>2939</td>\n",
              "      <td>2933.000000</td>\n",
              "      <td>2892.000000</td>\n",
              "      <td>2648</td>\n",
              "      <td>2106</td>\n",
              "      <td>2521</td>\n",
              "      <td>2223</td>\n",
              "      <td>2892.000000</td>\n",
              "      <td>2939.000000</td>\n",
              "      <td>2238</td>\n",
              "      <td>2892.000000</td>\n",
              "      <td>2939.000000</td>\n",
              "    </tr>\n",
              "    <tr>\n",
              "      <th>unique</th>\n",
              "      <td>4</td>\n",
              "      <td>NaN</td>\n",
              "      <td>NaN</td>\n",
              "      <td>5</td>\n",
              "      <td>27</td>\n",
              "      <td>4</td>\n",
              "      <td>4</td>\n",
              "      <td>NaN</td>\n",
              "      <td>NaN</td>\n",
              "      <td>34</td>\n",
              "      <td>NaN</td>\n",
              "      <td>NaN</td>\n",
              "    </tr>\n",
              "    <tr>\n",
              "      <th>top</th>\n",
              "      <td>2 person</td>\n",
              "      <td>NaN</td>\n",
              "      <td>NaN</td>\n",
              "      <td>time_level_4</td>\n",
              "      <td>new_american</td>\n",
              "      <td>meat</td>\n",
              "      <td>no_heat</td>\n",
              "      <td>NaN</td>\n",
              "      <td>NaN</td>\n",
              "      <td>poultry</td>\n",
              "      <td>NaN</td>\n",
              "      <td>NaN</td>\n",
              "    </tr>\n",
              "    <tr>\n",
              "      <th>freq</th>\n",
              "      <td>1339</td>\n",
              "      <td>NaN</td>\n",
              "      <td>NaN</td>\n",
              "      <td>1359</td>\n",
              "      <td>897</td>\n",
              "      <td>1411</td>\n",
              "      <td>1874</td>\n",
              "      <td>NaN</td>\n",
              "      <td>NaN</td>\n",
              "      <td>446</td>\n",
              "      <td>NaN</td>\n",
              "      <td>NaN</td>\n",
              "    </tr>\n",
              "    <tr>\n",
              "      <th>mean</th>\n",
              "      <td>NaN</td>\n",
              "      <td>726.766792</td>\n",
              "      <td>64.969046</td>\n",
              "      <td>NaN</td>\n",
              "      <td>NaN</td>\n",
              "      <td>NaN</td>\n",
              "      <td>NaN</td>\n",
              "      <td>38.055595</td>\n",
              "      <td>7.046274</td>\n",
              "      <td>NaN</td>\n",
              "      <td>34.841110</td>\n",
              "      <td>2665.353862</td>\n",
              "    </tr>\n",
              "    <tr>\n",
              "      <th>std</th>\n",
              "      <td>NaN</td>\n",
              "      <td>169.665883</td>\n",
              "      <td>31.024875</td>\n",
              "      <td>NaN</td>\n",
              "      <td>NaN</td>\n",
              "      <td>NaN</td>\n",
              "      <td>NaN</td>\n",
              "      <td>28.815285</td>\n",
              "      <td>1.825963</td>\n",
              "      <td>NaN</td>\n",
              "      <td>12.763028</td>\n",
              "      <td>4765.205485</td>\n",
              "    </tr>\n",
              "    <tr>\n",
              "      <th>min</th>\n",
              "      <td>NaN</td>\n",
              "      <td>0.000000</td>\n",
              "      <td>3.000000</td>\n",
              "      <td>NaN</td>\n",
              "      <td>NaN</td>\n",
              "      <td>NaN</td>\n",
              "      <td>NaN</td>\n",
              "      <td>5.000000</td>\n",
              "      <td>0.000000</td>\n",
              "      <td>NaN</td>\n",
              "      <td>1.500000</td>\n",
              "      <td>3.000000</td>\n",
              "    </tr>\n",
              "    <tr>\n",
              "      <th>25%</th>\n",
              "      <td>NaN</td>\n",
              "      <td>616.000000</td>\n",
              "      <td>46.000000</td>\n",
              "      <td>NaN</td>\n",
              "      <td>NaN</td>\n",
              "      <td>NaN</td>\n",
              "      <td>NaN</td>\n",
              "      <td>27.175000</td>\n",
              "      <td>6.000000</td>\n",
              "      <td>NaN</td>\n",
              "      <td>26.000000</td>\n",
              "      <td>263.000000</td>\n",
              "    </tr>\n",
              "    <tr>\n",
              "      <th>50%</th>\n",
              "      <td>NaN</td>\n",
              "      <td>720.000000</td>\n",
              "      <td>63.500000</td>\n",
              "      <td>NaN</td>\n",
              "      <td>NaN</td>\n",
              "      <td>NaN</td>\n",
              "      <td>NaN</td>\n",
              "      <td>36.000000</td>\n",
              "      <td>7.000000</td>\n",
              "      <td>NaN</td>\n",
              "      <td>35.000000</td>\n",
              "      <td>829.000000</td>\n",
              "    </tr>\n",
              "    <tr>\n",
              "      <th>75%</th>\n",
              "      <td>NaN</td>\n",
              "      <td>834.000000</td>\n",
              "      <td>83.600000</td>\n",
              "      <td>NaN</td>\n",
              "      <td>NaN</td>\n",
              "      <td>NaN</td>\n",
              "      <td>NaN</td>\n",
              "      <td>45.000000</td>\n",
              "      <td>9.000000</td>\n",
              "      <td>NaN</td>\n",
              "      <td>43.600000</td>\n",
              "      <td>2315.500000</td>\n",
              "    </tr>\n",
              "    <tr>\n",
              "      <th>max</th>\n",
              "      <td>NaN</td>\n",
              "      <td>1380.000000</td>\n",
              "      <td>880.000000</td>\n",
              "      <td>NaN</td>\n",
              "      <td>NaN</td>\n",
              "      <td>NaN</td>\n",
              "      <td>NaN</td>\n",
              "      <td>664.000000</td>\n",
              "      <td>11.000000</td>\n",
              "      <td>NaN</td>\n",
              "      <td>266.000000</td>\n",
              "      <td>24322.000000</td>\n",
              "    </tr>\n",
              "  </tbody>\n",
              "</table>\n",
              "</div>"
            ],
            "text/plain": [
              "       product_type     calories  ...     proteins         sales\n",
              "count          2939  2933.000000  ...  2892.000000   2939.000000\n",
              "unique            4          NaN  ...          NaN           NaN\n",
              "top        2 person          NaN  ...          NaN           NaN\n",
              "freq           1339          NaN  ...          NaN           NaN\n",
              "mean            NaN   726.766792  ...    34.841110   2665.353862\n",
              "std             NaN   169.665883  ...    12.763028   4765.205485\n",
              "min             NaN     0.000000  ...     1.500000      3.000000\n",
              "25%             NaN   616.000000  ...    26.000000    263.000000\n",
              "50%             NaN   720.000000  ...    35.000000    829.000000\n",
              "75%             NaN   834.000000  ...    43.600000   2315.500000\n",
              "max             NaN  1380.000000  ...   266.000000  24322.000000\n",
              "\n",
              "[11 rows x 12 columns]"
            ]
          },
          "metadata": {
            "tags": []
          },
          "execution_count": 9
        }
      ]
    },
    {
      "cell_type": "code",
      "metadata": {
        "id": "mhkL-0tb3Rxs"
      },
      "source": [
        "#Filling missing values by method of mean and mode. \r\n",
        "def errorReplacer(table):\r\n",
        "  '''\r\n",
        "  table represent dataframe.\r\n",
        "  Function identifies data type, check for the missing values and reccommends suitable method for replacing missing values.\r\n",
        "  Mean for int or float datatype and mode for categorical data type. \r\n",
        "  '''\r\n",
        "  df = table\r\n",
        "  x = pd.DataFrame(df.isnull().sum())\r\n",
        "  x = x[x[0] > 0]\r\n",
        "\r\n",
        "  for i in x.index:\r\n",
        "      if df[i].dtypes == 'float':\r\n",
        "          mean = df[i].mean()\r\n",
        "          df[i].replace(np.nan, mean, inplace = True)\r\n",
        "          if df[i].dtypes == 'int':\r\n",
        "              df[i] = df[i].astype(int)\r\n",
        "          elif df[i].dtypes == 'float':\r\n",
        "              pass\r\n",
        "      elif df[i].dtypes == 'object':\r\n",
        "          mode = df[i].mode()\r\n",
        "          df[i] = df[i].replace({np.nan : mode.values})"
      ],
      "execution_count": null,
      "outputs": []
    },
    {
      "cell_type": "code",
      "metadata": {
        "colab": {
          "base_uri": "https://localhost:8080/"
        },
        "id": "znYSNCV-4wsj",
        "outputId": "cf3dad9e-6b9d-4ed3-ba84-c9de869fc284"
      },
      "source": [
        "errorReplacer(FullTable)"
      ],
      "execution_count": null,
      "outputs": [
        {
          "output_type": "stream",
          "text": [
            "/usr/local/lib/python3.6/dist-packages/pandas/core/series.py:4582: SettingWithCopyWarning: \n",
            "A value is trying to be set on a copy of a slice from a DataFrame\n",
            "\n",
            "See the caveats in the documentation: https://pandas.pydata.org/pandas-docs/stable/user_guide/indexing.html#returning-a-view-versus-a-copy\n",
            "  method=method,\n",
            "/usr/local/lib/python3.6/dist-packages/ipykernel_launcher.py:22: SettingWithCopyWarning: \n",
            "A value is trying to be set on a copy of a slice from a DataFrame.\n",
            "Try using .loc[row_indexer,col_indexer] = value instead\n",
            "\n",
            "See the caveats in the documentation: https://pandas.pydata.org/pandas-docs/stable/user_guide/indexing.html#returning-a-view-versus-a-copy\n"
          ],
          "name": "stderr"
        }
      ]
    },
    {
      "cell_type": "code",
      "metadata": {
        "id": "mOeCKEDgRX3i"
      },
      "source": [
        "#Creating a list containing name of columns of categorical objects.\r\n",
        "categoricalCols = [x for x in FullTable.columns if FullTable[x].dtypes == 'object']\r\n",
        "TargetVar = ['sales']\r\n",
        "numericalCols =  [x for x in FullTable.columns if x not in categoricalCols + TargetVar]"
      ],
      "execution_count": null,
      "outputs": []
    },
    {
      "cell_type": "code",
      "metadata": {
        "id": "vbN7E8NkTIDK"
      },
      "source": [
        "CleanedTab = pd.DataFrame({\"Column\" : list(FullTable.isnull().sum().index),\n",
        "                      \"Null Values\" : FullTable.isnull().sum().values,\n",
        "                      \"Unique Values\": [len(FullTable[x].unique()) for x in FullTable.columns],\n",
        "                      \"Dtype\" : FullTable.dtypes.values\n",
        "                      })"
      ],
      "execution_count": null,
      "outputs": []
    },
    {
      "cell_type": "code",
      "metadata": {
        "colab": {
          "base_uri": "https://localhost:8080/",
          "height": 421
        },
        "id": "nfkMjsYU8tmH",
        "outputId": "bc82b314-4c67-4de7-b684-482c79ce9011"
      },
      "source": [
        "CleanedTab"
      ],
      "execution_count": null,
      "outputs": [
        {
          "output_type": "execute_result",
          "data": {
            "text/html": [
              "<div>\n",
              "<style scoped>\n",
              "    .dataframe tbody tr th:only-of-type {\n",
              "        vertical-align: middle;\n",
              "    }\n",
              "\n",
              "    .dataframe tbody tr th {\n",
              "        vertical-align: top;\n",
              "    }\n",
              "\n",
              "    .dataframe thead th {\n",
              "        text-align: right;\n",
              "    }\n",
              "</style>\n",
              "<table border=\"1\" class=\"dataframe\">\n",
              "  <thead>\n",
              "    <tr style=\"text-align: right;\">\n",
              "      <th></th>\n",
              "      <th>Column</th>\n",
              "      <th>Null Values</th>\n",
              "      <th>Unique Values</th>\n",
              "      <th>Dtype</th>\n",
              "    </tr>\n",
              "  </thead>\n",
              "  <tbody>\n",
              "    <tr>\n",
              "      <th>0</th>\n",
              "      <td>product_type</td>\n",
              "      <td>0</td>\n",
              "      <td>4</td>\n",
              "      <td>object</td>\n",
              "    </tr>\n",
              "    <tr>\n",
              "      <th>1</th>\n",
              "      <td>calories</td>\n",
              "      <td>0</td>\n",
              "      <td>393</td>\n",
              "      <td>float64</td>\n",
              "    </tr>\n",
              "    <tr>\n",
              "      <th>2</th>\n",
              "      <td>carbs</td>\n",
              "      <td>0</td>\n",
              "      <td>406</td>\n",
              "      <td>float64</td>\n",
              "    </tr>\n",
              "    <tr>\n",
              "      <th>3</th>\n",
              "      <td>cooking_time</td>\n",
              "      <td>0</td>\n",
              "      <td>5</td>\n",
              "      <td>object</td>\n",
              "    </tr>\n",
              "    <tr>\n",
              "      <th>4</th>\n",
              "      <td>cuisine</td>\n",
              "      <td>0</td>\n",
              "      <td>27</td>\n",
              "      <td>object</td>\n",
              "    </tr>\n",
              "    <tr>\n",
              "      <th>5</th>\n",
              "      <td>dish_type</td>\n",
              "      <td>0</td>\n",
              "      <td>4</td>\n",
              "      <td>object</td>\n",
              "    </tr>\n",
              "    <tr>\n",
              "      <th>6</th>\n",
              "      <td>heat_level</td>\n",
              "      <td>0</td>\n",
              "      <td>4</td>\n",
              "      <td>object</td>\n",
              "    </tr>\n",
              "    <tr>\n",
              "      <th>7</th>\n",
              "      <td>fat</td>\n",
              "      <td>0</td>\n",
              "      <td>314</td>\n",
              "      <td>float64</td>\n",
              "    </tr>\n",
              "    <tr>\n",
              "      <th>8</th>\n",
              "      <td>number_of_ingredients_per_recipe</td>\n",
              "      <td>0</td>\n",
              "      <td>12</td>\n",
              "      <td>int64</td>\n",
              "    </tr>\n",
              "    <tr>\n",
              "      <th>9</th>\n",
              "      <td>protein_types</td>\n",
              "      <td>0</td>\n",
              "      <td>34</td>\n",
              "      <td>object</td>\n",
              "    </tr>\n",
              "    <tr>\n",
              "      <th>10</th>\n",
              "      <td>proteins</td>\n",
              "      <td>0</td>\n",
              "      <td>305</td>\n",
              "      <td>float64</td>\n",
              "    </tr>\n",
              "    <tr>\n",
              "      <th>11</th>\n",
              "      <td>sales</td>\n",
              "      <td>0</td>\n",
              "      <td>1855</td>\n",
              "      <td>int64</td>\n",
              "    </tr>\n",
              "  </tbody>\n",
              "</table>\n",
              "</div>"
            ],
            "text/plain": [
              "                              Column  Null Values  Unique Values    Dtype\n",
              "0                       product_type            0              4   object\n",
              "1                           calories            0            393  float64\n",
              "2                              carbs            0            406  float64\n",
              "3                       cooking_time            0              5   object\n",
              "4                            cuisine            0             27   object\n",
              "5                          dish_type            0              4   object\n",
              "6                         heat_level            0              4   object\n",
              "7                                fat            0            314  float64\n",
              "8   number_of_ingredients_per_recipe            0             12    int64\n",
              "9                      protein_types            0             34   object\n",
              "10                          proteins            0            305  float64\n",
              "11                             sales            0           1855    int64"
            ]
          },
          "metadata": {
            "tags": []
          },
          "execution_count": 15
        }
      ]
    },
    {
      "cell_type": "code",
      "metadata": {
        "colab": {
          "base_uri": "https://localhost:8080/",
          "height": 1000
        },
        "id": "f2po53qA-f6F",
        "outputId": "89c1aaeb-429f-4455-ac46-978067cdafb8"
      },
      "source": [
        "# This function plots the varation of features as against the sales return using the total sum value\n",
        "#Can give us better insights on the powerful deciding features on the the possibility of high sales return.\n",
        "def barPlot(column):\n",
        "  '''\n",
        "  column takes the value of the current column feature which is used to plot against the sales column.\n",
        "  '''\n",
        "  fig = plt.figure(figsize = (12,6))\n",
        "  sns.barplot( 'sales', column, data=FullTable)\n",
        "  plt.show()\n",
        "\n",
        "for i in categoricalCols:\n",
        "  barPlot(i)"
      ],
      "execution_count": null,
      "outputs": [
        {
          "output_type": "stream",
          "text": [
            "/usr/local/lib/python3.6/dist-packages/seaborn/_decorators.py:43: FutureWarning: Pass the following variables as keyword args: x, y. From version 0.12, the only valid positional argument will be `data`, and passing other arguments without an explicit keyword will result in an error or misinterpretation.\n",
            "  FutureWarning\n"
          ],
          "name": "stderr"
        },
        {
          "output_type": "display_data",
          "data": {
            "image/png": "[encoded data removed]",
            "text/plain": [
              "<Figure size 864x432 with 1 Axes>"
            ]
          },
          "metadata": {
            "tags": []
          }
        },
        {
          "output_type": "stream",
          "text": [
            "/usr/local/lib/python3.6/dist-packages/seaborn/_decorators.py:43: FutureWarning: Pass the following variables as keyword args: x, y. From version 0.12, the only valid positional argument will be `data`, and passing other arguments without an explicit keyword will result in an error or misinterpretation.\n",
            "  FutureWarning\n"
          ],
          "name": "stderr"
        },
        {
          "output_type": "display_data",
          "data": {
            "image/png": "[encoded data removed]",
            "text/plain": [
              "<Figure size 864x432 with 1 Axes>"
            ]
          },
          "metadata": {
            "tags": []
          }
        },
        {
          "output_type": "stream",
          "text": [
            "/usr/local/lib/python3.6/dist-packages/seaborn/_decorators.py:43: FutureWarning: Pass the following variables as keyword args: x, y. From version 0.12, the only valid positional argument will be `data`, and passing other arguments without an explicit keyword will result in an error or misinterpretation.\n",
            "  FutureWarning\n"
          ],
          "name": "stderr"
        },
        {
          "output_type": "display_data",
          "data": {
            "image/png": "[encoded data removed]",
            "text/plain": [
              "<Figure size 864x432 with 1 Axes>"
            ]
          },
          "metadata": {
            "tags": []
          }
        },
        {
          "output_type": "stream",
          "text": [
            "/usr/local/lib/python3.6/dist-packages/seaborn/_decorators.py:43: FutureWarning: Pass the following variables as keyword args: x, y. From version 0.12, the only valid positional argument will be `data`, and passing other arguments without an explicit keyword will result in an error or misinterpretation.\n",
            "  FutureWarning\n"
          ],
          "name": "stderr"
        },
        {
          "output_type": "display_data",
          "data": {
            "image/png": "[encoded data removed]",
            "text/plain": [
              "<Figure size 864x432 with 1 Axes>"
            ]
          },
          "metadata": {
            "tags": []
          }
        },
        {
          "output_type": "stream",
          "text": [
            "/usr/local/lib/python3.6/dist-packages/seaborn/_decorators.py:43: FutureWarning: Pass the following variables as keyword args: x, y. From version 0.12, the only valid positional argument will be `data`, and passing other arguments without an explicit keyword will result in an error or misinterpretation.\n",
            "  FutureWarning\n"
          ],
          "name": "stderr"
        },
        {
          "output_type": "display_data",
          "data": {
            "image/png": "[encoded data removed]",
            "text/plain": [
              "<Figure size 864x432 with 1 Axes>"
            ]
          },
          "metadata": {
            "tags": []
          }
        },
        {
          "output_type": "stream",
          "text": [
            "/usr/local/lib/python3.6/dist-packages/seaborn/_decorators.py:43: FutureWarning: Pass the following variables as keyword args: x, y. From version 0.12, the only valid positional argument will be `data`, and passing other arguments without an explicit keyword will result in an error or misinterpretation.\n",
            "  FutureWarning\n"
          ],
          "name": "stderr"
        },
        {
          "output_type": "display_data",
          "data": {
            "image/png": "[encoded data removed]",
            "text/plain": [
              "<Figure size 864x432 with 1 Axes>"
            ]
          },
          "metadata": {
            "tags": []
          }
        }
      ]
    },
    {
      "cell_type": "code",
      "metadata": {
        "id": "WnoMSGc57qhg"
      },
      "source": [
        "#Grouping of simmilar products in protein types column\r\n",
        "def ProCut(x):\r\n",
        "  if x == 'shellfish' or x == 'fish' or x == 'tofu or similar':\r\n",
        "    return 'fish'\r\n",
        "  elif x == 'poultry' or x == 'egg' or x == 'dairy,egg' or x == 'beans_pulses,egg' or x == 'egg,poultry' or x == 'beef,pork,egg' or x == 'fish,poultry':\r\n",
        "    return 'poultry products'\r\n",
        "  elif x == 'plant_based' or x == 'beans_pulses' or x == 'beans_pulses,dairy' or x == 'plant_based,dairy' or x == 'pork,beans_pulses' or x == 'poultry,beans_pulses' or x == 'dairy,beans_pulses' or x == 'beans_pulses,plant_based' or x == 'dairy,nuts_and_seeds' or x == 'dairy,plant_based' or x == 'egg,plant_based' or x == 'beans_pulses,egg' or x == 'beans_pulses,pork':\r\n",
        "    return 'plant products'\r\n",
        "  elif x == 'pork' or x =='beef' or x == 'beef,dairy' or x == 'pork,dairy' or x == 'lamb,poultry' or x == 'pork,poultry':\r\n",
        "    return 'meats'\r\n",
        "  elif x == 'no_protein':\r\n",
        "    return 'no protein'\r\n",
        "  else:\r\n",
        "    return 'dairy products'"
      ],
      "execution_count": null,
      "outputs": []
    },
    {
      "cell_type": "code",
      "metadata": {
        "id": "7K7PlFULBVd2"
      },
      "source": [
        "#Grouping of similar continents dish in cuisine types\r\n",
        "def continentdish(x):\r\n",
        "  if x == 'asian' or x == 'chinese' or x == 'korean' or x == 'vietnamese' or x == 'asian_fusion' or x == 'indian' or x == 'thai' or x == 'japaneese' or x == 'middle_eastern':\r\n",
        "    return 'Asian'\r\n",
        "  elif x == 'new_american' or x == 'mexican' or x == 'american' or x == 'tex_mex':\r\n",
        "    return 'North American'\r\n",
        "  elif x == 'swedish' or x == 'greek' or x == 'eastern_european' or x == 'european' or x == 'french' or x == 'british_irish' or x == 'german' or x == 'italian':\r\n",
        "    return 'European'\r\n",
        "  elif x == 'caribbean' or x == 'central_south_american' or x == 'south_american':\r\n",
        "    return 'South American'\r\n",
        "  else:\r\n",
        "    return x"
      ],
      "execution_count": null,
      "outputs": []
    },
    {
      "cell_type": "code",
      "metadata": {
        "colab": {
          "base_uri": "https://localhost:8080/"
        },
        "id": "uL9zJo0a6mCa",
        "outputId": "f559eaa4-82fa-426c-9d8f-f0dcf9983b41"
      },
      "source": [
        "FullTable['Protein_Class'] = FullTable['protein_types'].apply(ProCut)\r\n",
        "FullTable['Cuisine'] = FullTable['cuisine'].apply(continentdish)"
      ],
      "execution_count": null,
      "outputs": [
        {
          "output_type": "stream",
          "text": [
            "/usr/local/lib/python3.6/dist-packages/ipykernel_launcher.py:1: SettingWithCopyWarning: \n",
            "A value is trying to be set on a copy of a slice from a DataFrame.\n",
            "Try using .loc[row_indexer,col_indexer] = value instead\n",
            "\n",
            "See the caveats in the documentation: https://pandas.pydata.org/pandas-docs/stable/user_guide/indexing.html#returning-a-view-versus-a-copy\n",
            "  \"\"\"Entry point for launching an IPython kernel.\n",
            "/usr/local/lib/python3.6/dist-packages/ipykernel_launcher.py:2: SettingWithCopyWarning: \n",
            "A value is trying to be set on a copy of a slice from a DataFrame.\n",
            "Try using .loc[row_indexer,col_indexer] = value instead\n",
            "\n",
            "See the caveats in the documentation: https://pandas.pydata.org/pandas-docs/stable/user_guide/indexing.html#returning-a-view-versus-a-copy\n",
            "  \n"
          ],
          "name": "stderr"
        }
      ]
    },
    {
      "cell_type": "code",
      "metadata": {
        "colab": {
          "base_uri": "https://localhost:8080/"
        },
        "id": "SWDC-9HqBD8K",
        "outputId": "57c5649a-4503-4ad8-a53e-8354dbe90c87"
      },
      "source": [
        "FullTable.drop(['protein_types','cuisine'], 1, inplace=True)"
      ],
      "execution_count": null,
      "outputs": [
        {
          "output_type": "stream",
          "text": [
            "/usr/local/lib/python3.6/dist-packages/pandas/core/frame.py:4174: SettingWithCopyWarning: \n",
            "A value is trying to be set on a copy of a slice from a DataFrame\n",
            "\n",
            "See the caveats in the documentation: https://pandas.pydata.org/pandas-docs/stable/user_guide/indexing.html#returning-a-view-versus-a-copy\n",
            "  errors=errors,\n"
          ],
          "name": "stderr"
        }
      ]
    },
    {
      "cell_type": "code",
      "metadata": {
        "colab": {
          "base_uri": "https://localhost:8080/",
          "height": 1000
        },
        "id": "BOqFKZVb6bzj",
        "outputId": "3d344a13-06cf-4b76-d674-ac1218b5e0b2"
      },
      "source": [
        "#Creating a new list containing name of columns of categorical objects.\r\n",
        "ncategoricalCols = [x for x in FullTable.columns if FullTable[x].dtypes == 'object']\r\n",
        "nTargetVar = ['sales']\r\n",
        "nnumericalCols =  [x for x in FullTable.columns if x not in categoricalCols + TargetVar]\r\n",
        "for i in ncategoricalCols:\r\n",
        "  barPlot(i)"
      ],
      "execution_count": null,
      "outputs": [
        {
          "output_type": "stream",
          "text": [
            "/usr/local/lib/python3.6/dist-packages/seaborn/_decorators.py:43: FutureWarning: Pass the following variables as keyword args: x, y. From version 0.12, the only valid positional argument will be `data`, and passing other arguments without an explicit keyword will result in an error or misinterpretation.\n",
            "  FutureWarning\n"
          ],
          "name": "stderr"
        },
        {
          "output_type": "display_data",
          "data": {
            "image/png": "[encoded data removed]",
            "text/plain": [
              "<Figure size 864x432 with 1 Axes>"
            ]
          },
          "metadata": {
            "tags": []
          }
        },
        {
          "output_type": "stream",
          "text": [
            "/usr/local/lib/python3.6/dist-packages/seaborn/_decorators.py:43: FutureWarning: Pass the following variables as keyword args: x, y. From version 0.12, the only valid positional argument will be `data`, and passing other arguments without an explicit keyword will result in an error or misinterpretation.\n",
            "  FutureWarning\n"
          ],
          "name": "stderr"
        },
        {
          "output_type": "display_data",
          "data": {
            "image/png": "[encoded data removed]",
            "text/plain": [
              "<Figure size 864x432 with 1 Axes>"
            ]
          },
          "metadata": {
            "tags": []
          }
        },
        {
          "output_type": "stream",
          "text": [
            "/usr/local/lib/python3.6/dist-packages/seaborn/_decorators.py:43: FutureWarning: Pass the following variables as keyword args: x, y. From version 0.12, the only valid positional argument will be `data`, and passing other arguments without an explicit keyword will result in an error or misinterpretation.\n",
            "  FutureWarning\n"
          ],
          "name": "stderr"
        },
        {
          "output_type": "display_data",
          "data": {
            "image/png": "[encoded data removed]",
            "text/plain": [
              "<Figure size 864x432 with 1 Axes>"
            ]
          },
          "metadata": {
            "tags": []
          }
        },
        {
          "output_type": "stream",
          "text": [
            "/usr/local/lib/python3.6/dist-packages/seaborn/_decorators.py:43: FutureWarning: Pass the following variables as keyword args: x, y. From version 0.12, the only valid positional argument will be `data`, and passing other arguments without an explicit keyword will result in an error or misinterpretation.\n",
            "  FutureWarning\n"
          ],
          "name": "stderr"
        },
        {
          "output_type": "display_data",
          "data": {
            "image/png": "[encoded data removed]",
            "text/plain": [
              "<Figure size 864x432 with 1 Axes>"
            ]
          },
          "metadata": {
            "tags": []
          }
        },
        {
          "output_type": "stream",
          "text": [
            "/usr/local/lib/python3.6/dist-packages/seaborn/_decorators.py:43: FutureWarning: Pass the following variables as keyword args: x, y. From version 0.12, the only valid positional argument will be `data`, and passing other arguments without an explicit keyword will result in an error or misinterpretation.\n",
            "  FutureWarning\n"
          ],
          "name": "stderr"
        },
        {
          "output_type": "display_data",
          "data": {
            "image/png": "[encoded data removed]",
            "text/plain": [
              "<Figure size 864x432 with 1 Axes>"
            ]
          },
          "metadata": {
            "tags": []
          }
        },
        {
          "output_type": "stream",
          "text": [
            "/usr/local/lib/python3.6/dist-packages/seaborn/_decorators.py:43: FutureWarning: Pass the following variables as keyword args: x, y. From version 0.12, the only valid positional argument will be `data`, and passing other arguments without an explicit keyword will result in an error or misinterpretation.\n",
            "  FutureWarning\n"
          ],
          "name": "stderr"
        },
        {
          "output_type": "display_data",
          "data": {
            "image/png": "[encoded data removed]",
            "text/plain": [
              "<Figure size 864x432 with 1 Axes>"
            ]
          },
          "metadata": {
            "tags": []
          }
        }
      ]
    },
    {
      "cell_type": "code",
      "metadata": {
        "colab": {
          "base_uri": "https://localhost:8080/",
          "height": 1000
        },
        "id": "w0MKMsn0nU7R",
        "outputId": "0213e67a-7430-4093-ef4f-77f9612eb932"
      },
      "source": [
        "def countPlot(column):\n",
        "    '''\n",
        "    column takes the value of the current column feature which is used to plot against the sales column.\n",
        "    '''\n",
        "    fig = plt.figure(figsize = (12,6))\n",
        "    sns.countplot(y = column, data=FullTable)\n",
        "    plt.show()\n",
        "  \n",
        "for i in ncategoricalCols:\n",
        "  countPlot(i)"
      ],
      "execution_count": null,
      "outputs": [
        {
          "output_type": "display_data",
          "data": {
            "image/png": "[encoded data removed]",
            "text/plain": [
              "<Figure size 864x432 with 1 Axes>"
            ]
          },
          "metadata": {
            "tags": []
          }
        },
        {
          "output_type": "display_data",
          "data": {
            "image/png": "[encoded data removed]",
            "text/plain": [
              "<Figure size 864x432 with 1 Axes>"
            ]
          },
          "metadata": {
            "tags": []
          }
        },
        {
          "output_type": "display_data",
          "data": {
            "image/png": "[encoded data removed]",
            "text/plain": [
              "<Figure size 864x432 with 1 Axes>"
            ]
          },
          "metadata": {
            "tags": []
          }
        },
        {
          "output_type": "display_data",
          "data": {
            "image/png": "[encoded data removed]",
            "text/plain": [
              "<Figure size 864x432 with 1 Axes>"
            ]
          },
          "metadata": {
            "tags": []
          }
        },
        {
          "output_type": "display_data",
          "data": {
            "image/png": "[encoded data removed]",
            "text/plain": [
              "<Figure size 864x432 with 1 Axes>"
            ]
          },
          "metadata": {
            "tags": []
          }
        },
        {
          "output_type": "display_data",
          "data": {
            "image/png": "[encoded data removed]",
            "text/plain": [
              "<Figure size 864x432 with 1 Axes>"
            ]
          },
          "metadata": {
            "tags": []
          }
        }
      ]
    },
    {
      "cell_type": "code",
      "metadata": {
        "id": "56MyzIZ3pHcD",
        "colab": {
          "base_uri": "https://localhost:8080/"
        },
        "outputId": "c3299655-aafa-4663-92d5-86d0a5e9450c"
      },
      "source": [
        "#time)level_ and time_level_7 data points are extremely low and will create room for bisaement\n",
        "heat = ['time_level_6', 'time_level_7']\n",
        "for i in heat:\n",
        "  FullTable.drop(axis=0, index = list(FullTable[FullTable['cooking_time'] == i].index), inplace=True)\n",
        "\n",
        "#non_spicy data point is extremely low and will create room for bisaement\n",
        "FullTable.drop(axis=0, index = list(FullTable[FullTable['heat_level']== 'non_spicy'].index), inplace=True)"
      ],
      "execution_count": null,
      "outputs": [
        {
          "output_type": "stream",
          "text": [
            "/usr/local/lib/python3.6/dist-packages/pandas/core/frame.py:4174: SettingWithCopyWarning: \n",
            "A value is trying to be set on a copy of a slice from a DataFrame\n",
            "\n",
            "See the caveats in the documentation: https://pandas.pydata.org/pandas-docs/stable/user_guide/indexing.html#returning-a-view-versus-a-copy\n",
            "  errors=errors,\n"
          ],
          "name": "stderr"
        }
      ]
    },
    {
      "cell_type": "code",
      "metadata": {
        "id": "ugvo-FLkNQ93"
      },
      "source": [
        "FullTable.to_csv('final_restaurant.csv', index=False)"
      ],
      "execution_count": null,
      "outputs": []
    },
    {
      "cell_type": "markdown",
      "metadata": {
        "id": "3Wf8T4jVQ4n6"
      },
      "source": [
        "Data Cleaning Technicque\n",
        "\n",
        "Strip out columns containing more than 30% missing values of the total dataset\n",
        "Strip out columns containing too many outliers\n",
        "Strip out columns not enough to determine the sales return. "
      ]
    },
    {
      "cell_type": "code",
      "metadata": {
        "id": "lLusFfrdTIAr"
      },
      "source": [
        "target = ['sales']\n",
        "num_col = [x for x in testTab.columns if testTab[x].dtypes != 'object' and x not in target]"
      ],
      "execution_count": null,
      "outputs": []
    },
    {
      "cell_type": "markdown",
      "metadata": {
        "id": "ZPyUVYO7OI0Y"
      },
      "source": [
        "## Outliers Removal"
      ]
    },
    {
      "cell_type": "code",
      "metadata": {
        "id": "v-5I2cQfURpw"
      },
      "source": [
        "#Using Standard Deviation Method\r\n",
        "data = pd.read_csv('final_restaurant.csv')\r\n",
        "meanD, stD = np.mean(data['sales']), np.std(data['sales'])\r\n",
        "\r\n",
        "cutoff = stD * 3\r\n",
        "\r\n",
        "lower, upper = meanD - cutoff, meanD + cutoff"
      ],
      "execution_count": null,
      "outputs": []
    },
    {
      "cell_type": "code",
      "metadata": {
        "id": "jpLr0qFNPl8w"
      },
      "source": [
        "outliers = [y for y, x in enumerate(data['sales']) if x < lower or x > upper]"
      ],
      "execution_count": null,
      "outputs": []
    },
    {
      "cell_type": "code",
      "metadata": {
        "id": "6IYpltIfRHen"
      },
      "source": [
        "data.drop(outliers, inplace=True)"
      ],
      "execution_count": null,
      "outputs": []
    },
    {
      "cell_type": "code",
      "metadata": {
        "colab": {
          "base_uri": "https://localhost:8080/",
          "height": 297
        },
        "id": "_wyKXzPNRKVQ",
        "outputId": "af10af71-0112-4b3c-ad2b-43927fc27d58"
      },
      "source": [
        "data.describe()"
      ],
      "execution_count": null,
      "outputs": [
        {
          "output_type": "execute_result",
          "data": {
            "text/html": [
              "<div>\n",
              "<style scoped>\n",
              "    .dataframe tbody tr th:only-of-type {\n",
              "        vertical-align: middle;\n",
              "    }\n",
              "\n",
              "    .dataframe tbody tr th {\n",
              "        vertical-align: top;\n",
              "    }\n",
              "\n",
              "    .dataframe thead th {\n",
              "        text-align: right;\n",
              "    }\n",
              "</style>\n",
              "<table border=\"1\" class=\"dataframe\">\n",
              "  <thead>\n",
              "    <tr style=\"text-align: right;\">\n",
              "      <th></th>\n",
              "      <th>calories</th>\n",
              "      <th>carbs</th>\n",
              "      <th>fat</th>\n",
              "      <th>number_of_ingredients_per_recipe</th>\n",
              "      <th>proteins</th>\n",
              "      <th>sales</th>\n",
              "    </tr>\n",
              "  </thead>\n",
              "  <tbody>\n",
              "    <tr>\n",
              "      <th>count</th>\n",
              "      <td>2796.000000</td>\n",
              "      <td>2796.000000</td>\n",
              "      <td>2796.000000</td>\n",
              "      <td>2796.000000</td>\n",
              "      <td>2796.000000</td>\n",
              "      <td>2796.000000</td>\n",
              "    </tr>\n",
              "    <tr>\n",
              "      <th>mean</th>\n",
              "      <td>726.017382</td>\n",
              "      <td>65.595753</td>\n",
              "      <td>37.866199</td>\n",
              "      <td>7.071888</td>\n",
              "      <td>34.461167</td>\n",
              "      <td>1967.804721</td>\n",
              "    </tr>\n",
              "    <tr>\n",
              "      <th>std</th>\n",
              "      <td>170.618688</td>\n",
              "      <td>31.031169</td>\n",
              "      <td>29.181896</td>\n",
              "      <td>1.831600</td>\n",
              "      <td>11.964164</td>\n",
              "      <td>3341.127049</td>\n",
              "    </tr>\n",
              "    <tr>\n",
              "      <th>min</th>\n",
              "      <td>0.000000</td>\n",
              "      <td>3.000000</td>\n",
              "      <td>5.000000</td>\n",
              "      <td>0.000000</td>\n",
              "      <td>1.500000</td>\n",
              "      <td>3.000000</td>\n",
              "    </tr>\n",
              "    <tr>\n",
              "      <th>25%</th>\n",
              "      <td>610.000000</td>\n",
              "      <td>46.900000</td>\n",
              "      <td>27.000000</td>\n",
              "      <td>6.000000</td>\n",
              "      <td>26.000000</td>\n",
              "      <td>257.000000</td>\n",
              "    </tr>\n",
              "    <tr>\n",
              "      <th>50%</th>\n",
              "      <td>720.000000</td>\n",
              "      <td>64.969046</td>\n",
              "      <td>36.000000</td>\n",
              "      <td>7.000000</td>\n",
              "      <td>34.841110</td>\n",
              "      <td>766.500000</td>\n",
              "    </tr>\n",
              "    <tr>\n",
              "      <th>75%</th>\n",
              "      <td>834.000000</td>\n",
              "      <td>83.625000</td>\n",
              "      <td>44.925000</td>\n",
              "      <td>9.000000</td>\n",
              "      <td>43.000000</td>\n",
              "      <td>2094.500000</td>\n",
              "    </tr>\n",
              "    <tr>\n",
              "      <th>max</th>\n",
              "      <td>1380.000000</td>\n",
              "      <td>880.000000</td>\n",
              "      <td>664.000000</td>\n",
              "      <td>11.000000</td>\n",
              "      <td>94.000000</td>\n",
              "      <td>16969.000000</td>\n",
              "    </tr>\n",
              "  </tbody>\n",
              "</table>\n",
              "</div>"
            ],
            "text/plain": [
              "          calories        carbs  ...     proteins         sales\n",
              "count  2796.000000  2796.000000  ...  2796.000000   2796.000000\n",
              "mean    726.017382    65.595753  ...    34.461167   1967.804721\n",
              "std     170.618688    31.031169  ...    11.964164   3341.127049\n",
              "min       0.000000     3.000000  ...     1.500000      3.000000\n",
              "25%     610.000000    46.900000  ...    26.000000    257.000000\n",
              "50%     720.000000    64.969046  ...    34.841110    766.500000\n",
              "75%     834.000000    83.625000  ...    43.000000   2094.500000\n",
              "max    1380.000000   880.000000  ...    94.000000  16969.000000\n",
              "\n",
              "[8 rows x 6 columns]"
            ]
          },
          "metadata": {
            "tags": []
          },
          "execution_count": 44
        }
      ]
    },
    {
      "cell_type": "markdown",
      "metadata": {
        "id": "jYLYz7ZATvSl"
      },
      "source": [
        "# Required buttons and data by software engineering team"
      ]
    },
    {
      "cell_type": "code",
      "metadata": {
        "id": "1gvh7DU6UxQF"
      },
      "source": [
        "#Creating a list containing name of columns of new categorical objects and new numerical.\r\n",
        "ncategoricalCols = [x for x in data.columns if data[x].dtypes == 'object']\r\n",
        "nTargetVar = ['sales']\r\n",
        "nnumericalCols =  [x for x in data.columns if x not in ncategoricalCols + nTargetVar]"
      ],
      "execution_count": null,
      "outputs": []
    },
    {
      "cell_type": "code",
      "metadata": {
        "id": "yacerpaujrE8"
      },
      "source": [
        "X = data.drop('sales', 1).reset_index(drop=True)\r\n",
        "y = data['sales'].reset_index(drop=True)"
      ],
      "execution_count": null,
      "outputs": []
    },
    {
      "cell_type": "code",
      "metadata": {
        "id": "QKWLzFBojzQn"
      },
      "source": [
        "X = np.array(X)"
      ],
      "execution_count": null,
      "outputs": []
    },
    {
      "cell_type": "code",
      "metadata": {
        "colab": {
          "base_uri": "https://localhost:8080/"
        },
        "id": "popIgNDmkcFS",
        "outputId": "76f54f12-50c2-4054-db78-08c94611a72c"
      },
      "source": [
        "X[0]"
      ],
      "execution_count": null,
      "outputs": [
        {
          "output_type": "execute_result",
          "data": {
            "text/plain": [
              "array(['2 person', 687.0, 99.2, 'time_level_4', 'fish', 'optional_heat',\n",
              "       18.6, 7, 29.5, 'fish', 'Asian'], dtype=object)"
            ]
          },
          "metadata": {
            "tags": []
          },
          "execution_count": 73
        }
      ]
    },
    {
      "cell_type": "code",
      "metadata": {
        "colab": {
          "base_uri": "https://localhost:8080/"
        },
        "id": "vysajhp0UWhv",
        "outputId": "a50d3099-07fe-45ce-90ba-fefcfaf77765"
      },
      "source": [
        "for i in ncategoricalCols:\r\n",
        "  print(i, data[i].unique())"
      ],
      "execution_count": null,
      "outputs": [
        {
          "output_type": "stream",
          "text": [
            "product_type ['2 person' 'z_amazon' 'family' 'add_on']\n",
            "cooking_time ['time_level_4' 'time_level_5' 'time_level_3']\n",
            "dish_type ['fish' 'veggie' 'meat' 'wine_and_dessert']\n",
            "heat_level ['optional_heat' 'no_heat' 'high']\n",
            "Protein_Class ['fish' 'no protein' 'poultry products' 'meats' 'plant products'\n",
            " 'dairy products']\n",
            "Cuisine ['Asian' 'North American' 'mediterranean' 'European' 'South American'\n",
            " 'japanese' 'fusion' 'north_african']\n"
          ],
          "name": "stdout"
        }
      ]
    },
    {
      "cell_type": "code",
      "metadata": {
        "colab": {
          "base_uri": "https://localhost:8080/"
        },
        "id": "VNWUovKCXqNN",
        "outputId": "161108f0-5fe8-4330-9954-9ad867501fd7"
      },
      "source": [
        "for i in nnumericalCols:\r\n",
        "  print(i, min(data[i]), max(data[i]))"
      ],
      "execution_count": null,
      "outputs": [
        {
          "output_type": "stream",
          "text": [
            "calories 0.0 1380.0\n",
            "carbs 3.0 880.0\n",
            "fat 5.0 664.0\n",
            "number_of_ingredients_per_recipe 0 11\n",
            "proteins 1.5 94.0\n"
          ],
          "name": "stdout"
        }
      ]
    },
    {
      "cell_type": "code",
      "metadata": {
        "id": "g8NpUcK8TadW"
      },
      "source": [
        "pd.DataFrame({\r\n",
        "    \"Name\":[\"Product Type\", \"cooking Time\", \"Dish Type\", \"Heat Level\", \"Protein Class\", \"Cuisine\", \"Calories\", \"Carbs\", \"Fat\", \"Nos of Ingredients/Recipe\", \"Proteins\"],\r\n",
        "    \"FieldType\": [\"Dropdown list\",\"Dropdown list\",\"Dropdown list\",\"Dropdown list\",\"Dropdown list\",\"Dropdown list\", \"Inputfield\", \"Inputfield\", \"Inputfield\", \"Inputfield\", \"Inputfield\" ],\r\n",
        "    \"VarChar\" : [\"Strings\",\"Strings\",\"Strings\",\"Strings\",\"Strings\",\"Strings\",\"float\", \"float\", \"float\", \"int64\", \"float\"],\r\n",
        "    \"Values/Options\" : [\"2 person, z_amazon, family, add_on\",\"'time_level_4, time_level_5, time_level_3\", \"fish, veggie, meat, wine_and_dessert\", \"optional_heat, no_heat, high\", \"fish, no protein, poultry products, meats, plant products, dairy products\", \"Asian, North American, mediterranean, European, South American, japanese, fusion, north_african\", \"0.0 - 999.0\", \"0.0 - 999.0\", \"0.0 - 999.0\", \"0 - 999\", \"0.0 - 999.0\"],\r\n",
        "}).to_csv('datapoints.csv', index=False)"
      ],
      "execution_count": null,
      "outputs": []
    },
    {
      "cell_type": "markdown",
      "metadata": {
        "id": "XF9G0Avlhb6D"
      },
      "source": [
        "# Model Development"
      ]
    },
    {
      "cell_type": "code",
      "metadata": {
        "colab": {
          "base_uri": "https://localhost:8080/"
        },
        "id": "THSrrzdsiDnn",
        "outputId": "5fa22737-0199-442a-a9cf-3ac2a5f26900"
      },
      "source": [
        "pip install catboost"
      ],
      "execution_count": null,
      "outputs": [
        {
          "output_type": "stream",
          "text": [
            "Collecting catboost\n",
            "\u001b[?25l  Downloading https://files.pythonhosted.org/packages/20/37/bc4e0ddc30c07a96482abf1de7ed1ca54e59bba2026a33bca6d2ef286e5b/catboost-0.24.4-cp36-none-manylinux1_x86_64.whl (65.7MB)\n",
            "\u001b[K     |████████████████████████████████| 65.8MB 57kB/s \n",
            "\u001b[?25hRequirement already satisfied: numpy>=1.16.0 in /usr/local/lib/python3.6/dist-packages (from catboost) (1.19.5)\n",
            "Requirement already satisfied: six in /usr/local/lib/python3.6/dist-packages (from catboost) (1.15.0)\n",
            "Requirement already satisfied: pandas>=0.24.0 in /usr/local/lib/python3.6/dist-packages (from catboost) (1.1.5)\n",
            "Requirement already satisfied: matplotlib in /usr/local/lib/python3.6/dist-packages (from catboost) (3.2.2)\n",
            "Requirement already satisfied: graphviz in /usr/local/lib/python3.6/dist-packages (from catboost) (0.10.1)\n",
            "Requirement already satisfied: scipy in /usr/local/lib/python3.6/dist-packages (from catboost) (1.4.1)\n",
            "Requirement already satisfied: plotly in /usr/local/lib/python3.6/dist-packages (from catboost) (4.4.1)\n",
            "Requirement already satisfied: python-dateutil>=2.7.3 in /usr/local/lib/python3.6/dist-packages (from pandas>=0.24.0->catboost) (2.8.1)\n",
            "Requirement already satisfied: pytz>=2017.2 in /usr/local/lib/python3.6/dist-packages (from pandas>=0.24.0->catboost) (2018.9)\n",
            "Requirement already satisfied: kiwisolver>=1.0.1 in /usr/local/lib/python3.6/dist-packages (from matplotlib->catboost) (1.3.1)\n",
            "Requirement already satisfied: pyparsing!=2.0.4,!=2.1.2,!=2.1.6,>=2.0.1 in /usr/local/lib/python3.6/dist-packages (from matplotlib->catboost) (2.4.7)\n",
            "Requirement already satisfied: cycler>=0.10 in /usr/local/lib/python3.6/dist-packages (from matplotlib->catboost) (0.10.0)\n",
            "Requirement already satisfied: retrying>=1.3.3 in /usr/local/lib/python3.6/dist-packages (from plotly->catboost) (1.3.3)\n",
            "Installing collected packages: catboost\n",
            "Successfully installed catboost-0.24.4\n"
          ],
          "name": "stdout"
        }
      ]
    },
    {
      "cell_type": "code",
      "metadata": {
        "id": "CHbpxfByiR0N"
      },
      "source": [
        "import catboost \r\n",
        "from catboost import CatBoostRegressor\r\n",
        "import sklearn \r\n",
        "from sklearn.model_selection import train_test_split "
      ],
      "execution_count": null,
      "outputs": []
    },
    {
      "cell_type": "code",
      "metadata": {
        "id": "lNfOQWsLi14p"
      },
      "source": [
        "X_train, X_test, y_train, y_test = train_test_split(X, y, test_size=0.2, random_state=0)"
      ],
      "execution_count": null,
      "outputs": []
    },
    {
      "cell_type": "code",
      "metadata": {
        "id": "35f2agZKiVuv"
      },
      "source": [
        "cat_features = [0, 3, 4, 5, 9, 10]\r\n",
        "model = CatBoostRegressor(iterations=2, learning_rate=1, depth=2)"
      ],
      "execution_count": null,
      "outputs": []
    },
    {
      "cell_type": "code",
      "metadata": {
        "colab": {
          "base_uri": "https://localhost:8080/"
        },
        "id": "7dl9IiB-lgYb",
        "outputId": "bdac4ffc-7ce2-448e-de39-2d63b4baf3a0"
      },
      "source": [
        "model.fit(X_train, y_train, cat_features)"
      ],
      "execution_count": null,
      "outputs": [
        {
          "output_type": "stream",
          "text": [
            "0:\tlearn: 3004.0832934\ttotal: 48.6ms\tremaining: 48.6ms\n",
            "1:\tlearn: 2947.2473281\ttotal: 51.1ms\tremaining: 0us\n"
          ],
          "name": "stdout"
        },
        {
          "output_type": "execute_result",
          "data": {
            "text/plain": [
              "<catboost.core.CatBoostRegressor at 0x7fc696565fd0>"
            ]
          },
          "metadata": {
            "tags": []
          },
          "execution_count": 76
        }
      ]
    },
    {
      "cell_type": "code",
      "metadata": {
        "id": "lEpe94a9ls0K"
      },
      "source": [
        "pred = model.predict(X_test)"
      ],
      "execution_count": null,
      "outputs": []
    },
    {
      "cell_type": "code",
      "metadata": {
        "colab": {
          "base_uri": "https://localhost:8080/"
        },
        "id": "Ujen8NhDl1Kl",
        "outputId": "81efe54b-9123-4f11-ed97-1dc019708f97"
      },
      "source": [
        "for i in range(50):\r\n",
        "  print(\"Predicted: \", pred[i], \"Actual:\", list(y_test)[i])\r\n"
      ],
      "execution_count": null,
      "outputs": [
        {
          "output_type": "stream",
          "text": [
            "Predicted:  933.6243488578011 Actual: 69\n",
            "Predicted:  201.17357911858198 Actual: 171\n",
            "Predicted:  201.17357911858198 Actual: 6\n",
            "Predicted:  2995.00554882798 Actual: 3044\n",
            "Predicted:  2027.8677791278315 Actual: 516\n",
            "Predicted:  688.3372212227966 Actual: 166\n",
            "Predicted:  933.6243488578011 Actual: 410\n",
            "Predicted:  3587.7155435017853 Actual: 1807\n",
            "Predicted:  201.17357911858198 Actual: 159\n",
            "Predicted:  201.17357911858198 Actual: 840\n",
            "Predicted:  4554.853313201934 Actual: 1092\n",
            "Predicted:  1420.7879909620158 Actual: 304\n",
            "Predicted:  3587.7155435017853 Actual: 860\n",
            "Predicted:  4554.853313201934 Actual: 13739\n",
            "Predicted:  2027.8677791278315 Actual: 15103\n",
            "Predicted:  933.6243488578011 Actual: 145\n",
            "Predicted:  933.6243488578011 Actual: 6\n",
            "Predicted:  933.6243488578011 Actual: 468\n",
            "Predicted:  688.3372212227966 Actual: 103\n",
            "Predicted:  2995.00554882798 Actual: 4508\n",
            "Predicted:  201.17357911858198 Actual: 4\n",
            "Predicted:  2027.8677791278315 Actual: 2145\n",
            "Predicted:  201.17357911858198 Actual: 3799\n",
            "Predicted:  688.3372212227966 Actual: 227\n",
            "Predicted:  201.17357911858198 Actual: 3\n",
            "Predicted:  4554.853313201934 Actual: 14785\n",
            "Predicted:  2995.00554882798 Actual: 2731\n",
            "Predicted:  688.3372212227966 Actual: 136\n",
            "Predicted:  1420.7879909620158 Actual: 51\n",
            "Predicted:  2995.00554882798 Actual: 5222\n",
            "Predicted:  933.6243488578011 Actual: 705\n",
            "Predicted:  933.6243488578011 Actual: 4527\n",
            "Predicted:  933.6243488578011 Actual: 273\n",
            "Predicted:  2995.00554882798 Actual: 2603\n",
            "Predicted:  3587.7155435017853 Actual: 1739\n",
            "Predicted:  4554.853313201934 Actual: 16871\n",
            "Predicted:  1420.7879909620158 Actual: 320\n",
            "Predicted:  4554.853313201934 Actual: 920\n",
            "Predicted:  2027.8677791278315 Actual: 1519\n",
            "Predicted:  933.6243488578011 Actual: 756\n",
            "Predicted:  1420.7879909620158 Actual: 2276\n",
            "Predicted:  3587.7155435017853 Actual: 906\n",
            "Predicted:  201.17357911858198 Actual: 6\n",
            "Predicted:  3587.7155435017853 Actual: 13926\n",
            "Predicted:  933.6243488578011 Actual: 389\n",
            "Predicted:  933.6243488578011 Actual: 6\n",
            "Predicted:  933.6243488578011 Actual: 797\n",
            "Predicted:  688.3372212227966 Actual: 360\n",
            "Predicted:  201.17357911858198 Actual: 304\n",
            "Predicted:  1420.7879909620158 Actual: 3476\n"
          ],
          "name": "stdout"
        }
      ]
    },
    {
      "cell_type": "code",
      "metadata": {
        "id": "r1Fkgb9mpkpe"
      },
      "source": [
        "import joblib"
      ],
      "execution_count": null,
      "outputs": []
    },
    {
      "cell_type": "code",
      "metadata": {
        "colab": {
          "base_uri": "https://localhost:8080/"
        },
        "id": "hln6H1w0mLt8",
        "outputId": "0144582f-1230-494c-daff-4a175acfc8c4"
      },
      "source": [
        "joblib.dump(model, 'myModel.pkl')"
      ],
      "execution_count": null,
      "outputs": [
        {
          "output_type": "execute_result",
          "data": {
            "text/plain": [
              "['myModel.pkl']"
            ]
          },
          "metadata": {
            "tags": []
          },
          "execution_count": 89
        }
      ]
    },
    {
      "cell_type": "code",
      "metadata": {
        "colab": {
          "base_uri": "https://localhost:8080/",
          "height": 163
        },
        "id": "_9orwuOGmTZ4",
        "outputId": "129cd820-65f7-481d-9d76-f72bd6b7d679"
      },
      "source": [
        "with open('catBoost.pkl', 'wb') as cat:\r\n",
        "    pickle.dump(model, cat, pickle.HIGHEST_PROTOCO"
      ],
      "execution_count": null,
      "outputs": [
        {
          "output_type": "error",
          "ename": "TypeError",
          "evalue": "ignored",
          "traceback": [
            "\u001b[0;31m---------------------------------------------------------------------------\u001b[0m",
            "\u001b[0;31mTypeError\u001b[0m                                 Traceback (most recent call last)",
            "\u001b[0;32m<ipython-input-90-02d627cbc42d>\u001b[0m in \u001b[0;36m<module>\u001b[0;34m()\u001b[0m\n\u001b[0;32m----> 1\u001b[0;31m \u001b[0mpickle\u001b[0m\u001b[0;34m.\u001b[0m\u001b[0mdump\u001b[0m\u001b[0;34m(\u001b[0m\u001b[0mmodel\u001b[0m\u001b[0;34m,\u001b[0m \u001b[0;34m'myModel.sav'\u001b[0m\u001b[0;34m)\u001b[0m\u001b[0;34m\u001b[0m\u001b[0;34m\u001b[0m\u001b[0m\n\u001b[0m",
            "\u001b[0;31mTypeError\u001b[0m: file must have a 'write' attribute"
          ]
        }
      ]
    },
    {
      "cell_type": "code",
      "metadata": {
        "id": "7NMA6sPNtlnB",
        "colab": {
          "base_uri": "https://localhost:8080/"
        },
        "outputId": "812b60b0-7b5c-46de-febd-bfba40be2033"
      },
      "source": [
        "X_test[45]"
      ],
      "execution_count": null,
      "outputs": [
        {
          "output_type": "execute_result",
          "data": {
            "text/plain": [
              "array(['z_amazon', 834.0, 110.4, 'time_level_4', 'meat', 'no_heat', 15.9,\n",
              "       10, 57.4, 'poultry products', 'North American'], dtype=object)"
            ]
          },
          "metadata": {
            "tags": []
          },
          "execution_count": 91
        }
      ]
    },
    {
      "cell_type": "code",
      "metadata": {
        "colab": {
          "base_uri": "https://localhost:8080/"
        },
        "id": "zErtclehpxrf",
        "outputId": "4244a94c-bc47-4bf0-9461-4f8df212d987"
      },
      "source": [
        "model.predict(['z_amazon', 834.0, 110.4, 'time_level_4', 'meat', 'no_heat', 15.9,\r\n",
        "       10, 57.4, 'poultry products', 'North American'])"
      ],
      "execution_count": null,
      "outputs": [
        {
          "output_type": "execute_result",
          "data": {
            "text/plain": [
              "933.6243488578011"
            ]
          },
          "metadata": {
            "tags": []
          },
          "execution_count": 92
        }
      ]
    },
    {
      "cell_type": "code",
      "metadata": {
        "id": "DKDxoZZRtqhB"
      },
      "source": [
        ""
      ],
      "execution_count": null,
      "outputs": []
    }
  ]
}